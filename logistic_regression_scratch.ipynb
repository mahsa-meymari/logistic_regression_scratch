{
  "nbformat": 4,
  "nbformat_minor": 0,
  "metadata": {
    "colab": {
      "name": "logistic_regression_scratch.ipynb",
      "provenance": [],
      "collapsed_sections": []
    },
    "kernelspec": {
      "name": "python3",
      "display_name": "Python 3"
    },
    "language_info": {
      "name": "python"
    }
  },
  "cells": [
    {
      "cell_type": "markdown",
      "metadata": {
        "id": "65UxLa7cvbyQ"
      },
      "source": [
        "import basic libraries"
      ]
    },
    {
      "cell_type": "code",
      "metadata": {
        "id": "DNq4DSuGrtw_"
      },
      "source": [
        "import numpy as np # for mathmatical operations\n",
        "import matplotlib.pyplot as plt # to plot functions"
      ],
      "execution_count": 1,
      "outputs": []
    },
    {
      "cell_type": "markdown",
      "metadata": {
        "id": "hn3plAM4wJzF"
      },
      "source": [
        "Generate some easy data and plot it"
      ]
    },
    {
      "cell_type": "code",
      "metadata": {
        "colab": {
          "base_uri": "https://localhost:8080/",
          "height": 265
        },
        "id": "qStk8zMysDmE",
        "outputId": "e09cbbee-4d1e-44bb-a568-cef8c2f5fb49"
      },
      "source": [
        "x = np.arange(10).reshape(-1, 1)\n",
        "y = np.array([[0, 0, 0, 0, 1, 1, 1, 1, 1, 1]])\n",
        "m, n = x.shape\n",
        "plt.scatter(x,y)\n",
        "plt.show()"
      ],
      "execution_count": 2,
      "outputs": [
        {
          "output_type": "display_data",
          "data": {
            "image/png": "[encoded data removed]",
            "text/plain": [
              "<Figure size 432x288 with 1 Axes>"
            ]
          },
          "metadata": {
            "tags": [],
            "needs_background": "light"
          }
        }
      ]
    },
    {
      "cell_type": "markdown",
      "metadata": {
        "id": "kZKR218ixQ44"
      },
      "source": [
        "define activation function sigmoid"
      ]
    },
    {
      "cell_type": "code",
      "metadata": {
        "id": "MgMScb_AxCDQ"
      },
      "source": [
        "def sigmoid(z):\n",
        "  return 1/(1+np.e**(-z))\n",
        "def sigmoid_derivative(z):\n",
        "  return sigmoid(z) * (1 - sigmoid(z))"
      ],
      "execution_count": 3,
      "outputs": []
    },
    {
      "cell_type": "markdown",
      "metadata": {
        "id": "wxml8-bYwghX"
      },
      "source": [
        "initialize parameters weight and bias"
      ]
    },
    {
      "cell_type": "markdown",
      "metadata": {
        "id": "5Gz280bawqsp"
      },
      "source": [
        "Forward propagation"
      ]
    },
    {
      "cell_type": "code",
      "metadata": {
        "id": "xOzBP9mzz1mG"
      },
      "source": [
        "def plot_line(w,b):\n",
        "  x = [0, 10]\n",
        "  y = [x[0]*w+b, x[1]*w+b]\n",
        "  return x, y"
      ],
      "execution_count": 4,
      "outputs": []
    },
    {
      "cell_type": "code",
      "metadata": {
        "id": "oftrB4vxycQb"
      },
      "source": [
        "w = 0\n",
        "b = 0\n",
        "num_epoch = 500\n",
        "alpha = 0.1\n",
        "for i in range(num_epoch):\n",
        "  z = w * x + b\n",
        "\n",
        "  y_hat = sigmoid(z)\n",
        "  J =  -1 * (np.matmul(y,np.log(y_hat)) + np.matmul(1-y,np.log(1-y_hat))) / m\n",
        "\n",
        "  dw = np.sum(x * sigmoid_derivative(z) * ((1-(y.T))/(1-y_hat) - y.T/y_hat)) / m\n",
        "  db = np.sum(sigmoid_derivative(z) * ((1-(y.T))/(1-y_hat) - y.T/y_hat)) / m\n",
        "  # plt.plot(plot_line(w,b)[0],plot_line(w,b)[1])\n",
        "  w = w - dw * alpha\n",
        "  b = b - db * alpha\n",
        "# plt.legend([i for i in range(num_epoch)],loc='upper left')\n",
        "# plt.show()"
      ],
      "execution_count": 5,
      "outputs": []
    },
    {
      "cell_type": "markdown",
      "metadata": {
        "id": "Zcs_4YI84i25"
      },
      "source": [
        "Final Result"
      ]
    },
    {
      "cell_type": "code",
      "metadata": {
        "colab": {
          "base_uri": "https://localhost:8080/",
          "height": 265
        },
        "id": "K3Vm9i1v4iEN",
        "outputId": "2db6a019-a8b0-4372-921a-7d7396e719d1"
      },
      "source": [
        "plt.scatter(x,y)\n",
        "plt.plot(plot_line(w,b)[0],plot_line(w,b)[1],'--')\n",
        "plt.show()"
      ],
      "execution_count": 6,
      "outputs": [
        {
          "output_type": "display_data",
          "data": {
            "image/png": "[encoded data removed]",
            "text/plain": [
              "<Figure size 432x288 with 1 Axes>"
            ]
          },
          "metadata": {
            "tags": [],
            "needs_background": "light"
          }
        }
      ]
    }
  ]
}